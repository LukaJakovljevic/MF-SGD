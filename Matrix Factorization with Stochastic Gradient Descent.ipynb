{
 "cells": [
  {
   "cell_type": "markdown",
   "metadata": {},
   "source": [
    "# Factorization-Based Data Modeling\n",
    "## Practical Work 2\n",
    "by Luka Jakovljevic & Walid Gara"
   ]
  },
  {
   "cell_type": "markdown",
   "metadata": {},
   "source": [
    "# Task:\n",
    "## 1 Matrix Factorization with Stochastic Gradient Descent\n",
    "In this section, you will implement the stochastic gradient descent algorithm for large-scale matrix factorization. The problem that we aim to solve is given as follows:\n",
    "\n",
    "$(W^*,H^*) = \\arg \\min_{W,H} \\frac{1}{2} \\parallel M \\odot (X-WH) \\parallel^{2}_{F}$  \n",
    "Where $ X \\in \\mathbb{R}^{I \\times J} $  is the data matrix and $ W \\in \\mathbb{R}^{I \\times K} $ and $ H \\in \\mathbb{R}^{K \\times J} $ are unknown factor matrices\n",
    "\n",
    "Here\n",
    "$  \\parallel A \\parallel_{F}$ denotes the Frobenius norm of a matrix A and $  \\odot $ denotes element-wise multiplication."
   ]
  },
  {
   "cell_type": "markdown",
   "metadata": {},
   "source": [
    "## 2 Movie Recommendation\n",
    "We will work on the MovieLens 1 Million dataset. This dataset contains ~1 million ratings applied to I = 3883 movies by J = 6040 users, resulting in a sparse data matrix X with 4,3% non-zero entries. Our aim will be to decompose this matrix into W and H by only using its observed entries. Once we obtain estimates for W and H, we can then use them for predicting the unobserved entries of X, which will enable us to make recommendations."
   ]
  },
  {
   "cell_type": "markdown",
   "metadata": {},
   "source": [
    "\n",
    "# Exercises\n",
    "### 1. Complete the stochastic gradient algorithm.\n",
    "\n",
    "### 2. At the end of each iteration, compute the roor-mean-squared-error, that is given as follows:\n",
    " $ RMSE =  \\sqrt{\\frac{\\parallel M \\odot (X-WH) \\parallel^{2}_{F}}{N}}$  \n",
    " Where $N$ is the number of ovserved entries in $X$\n",
    " \n",
    "### 3. Play with the algorithm parameters, i.e. the step-size, the batch-size, initialization, and the rank of the factorization. What do you observe? How do the step-size and the batch-size interact?\n",
    "\n",
    "### 4. After estimating W and H, use them to recommend a movie for a given user."
   ]
  },
  {
   "cell_type": "markdown",
   "metadata": {},
   "source": [
    "\n",
    "\n",
    "# Solution:\n",
    "\n",
    "## SGD and RMSE"
   ]
  },
  {
   "cell_type": "code",
   "execution_count": 214,
   "metadata": {},
   "outputs": [],
   "source": [
    "import scipy.io as scio\n",
    "import numpy as np\n",
    "Xsp=scio.loadmat(\"ml_1m.mat\")[\"X\"]\n",
    "Xsp=Xsp.tocoo(copy=False)"
   ]
  },
  {
   "cell_type": "code",
   "execution_count": 65,
   "metadata": {},
   "outputs": [
    {
     "data": {
      "text/plain": [
       "(array([   0,   47,  148, ..., 3666, 3682, 3749]),\n",
       " array([   0,    0,    0, ..., 6039, 6039, 6039]))"
      ]
     },
     "execution_count": 65,
     "metadata": {},
     "output_type": "execute_result"
    }
   ],
   "source": [
    "#visualize the non-zero elements in Xsp\n",
    "np.nonzero(Xsp)"
   ]
  },
  {
   "cell_type": "code",
   "execution_count": 66,
   "metadata": {},
   "outputs": [],
   "source": [
    "#we can obtain the mask matrix from Xsp\n",
    "M = Xsp == 1"
   ]
  },
  {
   "cell_type": "code",
   "execution_count": 128,
   "metadata": {},
   "outputs": [
    {
     "name": "stdout",
     "output_type": "stream",
     "text": [
      "Only 4.264679797998748 percent of the matrix is full!\n"
     ]
    }
   ],
   "source": [
    "I,J = Xsp.shape\n",
    "N=len(Xsp.data) #or N = Xsp.getnnz() for number of non-zeros\n",
    "\n",
    "print('Only '+str(100*N/(I*J))+' percent of the matrix is full!')\n",
    "\n",
    "#create a list of elements that will be useful later\n",
    "Xi = Xsp.row\n",
    "Xj = Xsp.col\n",
    "Xs = Xsp.data\n",
    "\n",
    "Xlist = [Xi,Xj,Xs]"
   ]
  },
  {
   "cell_type": "code",
   "execution_count": 129,
   "metadata": {},
   "outputs": [],
   "source": [
    "#initialize the factor matrices\n",
    "from numpy.random import randn, random\n",
    "\n",
    "K = 10 #set the rank\n",
    "\n",
    "W = 1 * randn(I,K) \n",
    "H = 1 * randn(K,J)"
   ]
  },
  {
   "cell_type": "code",
   "execution_count": 130,
   "metadata": {},
   "outputs": [],
   "source": [
    "#stochastic gradient descent\n",
    "\n",
    "\n",
    "batchSize = 1000 #the number of elements that we will use at each iteration\n",
    "\n",
    "eta = 0.02 #step-size\n",
    "numIter = 100\n",
    "\n",
    "rmse_sgd = np.zeros(numIter)"
   ]
  },
  {
   "cell_type": "code",
   "execution_count": 136,
   "metadata": {
    "scrolled": true
   },
   "outputs": [
    {
     "name": "stdout",
     "output_type": "stream",
     "text": [
      "Iteration 0\n",
      "Iteration 1\n",
      "Iteration 2\n",
      "Iteration 3\n",
      "Iteration 4\n",
      "Iteration 5\n",
      "Iteration 6\n",
      "Iteration 7\n",
      "Iteration 8\n",
      "Iteration 9\n",
      "Iteration 10\n",
      "Iteration 11\n",
      "Iteration 12\n",
      "Iteration 13\n",
      "Iteration 14\n",
      "Iteration 15\n",
      "Iteration 16\n",
      "Iteration 17\n",
      "Iteration 18\n",
      "Iteration 19\n",
      "Iteration 20\n",
      "Iteration 21\n",
      "Iteration 22\n",
      "Iteration 23\n",
      "Iteration 24\n",
      "Iteration 25\n",
      "Iteration 26\n",
      "Iteration 27\n",
      "Iteration 28\n",
      "Iteration 29\n",
      "Iteration 30\n",
      "Iteration 31\n",
      "Iteration 32\n",
      "Iteration 33\n",
      "Iteration 34\n",
      "Iteration 35\n",
      "Iteration 36\n",
      "Iteration 37\n",
      "Iteration 38\n",
      "Iteration 39\n",
      "Iteration 40\n",
      "Iteration 41\n",
      "Iteration 42\n",
      "Iteration 43\n",
      "Iteration 44\n",
      "Iteration 45\n",
      "Iteration 46\n",
      "Iteration 47\n",
      "Iteration 48\n",
      "Iteration 49\n",
      "Iteration 50\n",
      "Iteration 51\n",
      "Iteration 52\n",
      "Iteration 53\n",
      "Iteration 54\n",
      "Iteration 55\n",
      "Iteration 56\n",
      "Iteration 57\n",
      "Iteration 58\n",
      "Iteration 59\n",
      "Iteration 60\n",
      "Iteration 61\n",
      "Iteration 62\n",
      "Iteration 63\n",
      "Iteration 64\n",
      "Iteration 65\n",
      "Iteration 66\n",
      "Iteration 67\n",
      "Iteration 68\n",
      "Iteration 69\n",
      "Iteration 70\n",
      "Iteration 71\n",
      "Iteration 72\n",
      "Iteration 73\n",
      "Iteration 74\n",
      "Iteration 75\n",
      "Iteration 76\n",
      "Iteration 77\n",
      "Iteration 78\n",
      "Iteration 79\n",
      "Iteration 80\n",
      "Iteration 81\n",
      "Iteration 82\n",
      "Iteration 83\n",
      "Iteration 84\n",
      "Iteration 85\n",
      "Iteration 86\n",
      "Iteration 87\n",
      "Iteration 88\n",
      "Iteration 89\n",
      "Iteration 90\n",
      "Iteration 91\n",
      "Iteration 92\n",
      "Iteration 93\n",
      "Iteration 94\n",
      "Iteration 95\n",
      "Iteration 96\n",
      "Iteration 97\n",
      "Iteration 98\n",
      "Iteration 99\n"
     ]
    }
   ],
   "source": [
    "from numpy.linalg import inv, norm\n",
    "import math\n",
    "import scipy.sparse as sp\n",
    "\n",
    "for t in range(numIter):\n",
    "    \n",
    "    #get a random batch from the data\n",
    "    data_index = np.random.permutation(N)[:batchSize]\n",
    "    #this vector will contain some random numbers between 1 and N. \n",
    "    #Its size should be batchSize. You can use the function randperm\n",
    "    \n",
    "    #for each element in the data batch, update the corresponding elements in W and H\n",
    "    for i in range(batchSize):\n",
    "       # for each element in the batch, find its corresponding 'i', 'j' and value by using the Xlist array\n",
    "       cur_i = Xlist[0][data_index[i]]\n",
    "       cur_j = Xlist[1][data_index[i]]\n",
    "       cur_x = Xlist[2][data_index[i]]\n",
    "       \n",
    "       #compute the current xhat, for the current i and j\n",
    "       cur_xhat = W[cur_i,:].dot(H[:,cur_j])\n",
    "       \n",
    "       #compute the gradients for the 'corresponding elements' of W and H \n",
    "       #not all the elements of W and H will be updated\n",
    "       grad_w =  - (cur_x - cur_xhat)*(H[:,cur_j].T)\n",
    "       grad_h =  - W[cur_i,:].T.dot(cur_x - cur_xhat)\n",
    "       \n",
    "       #take a gradient step\n",
    "       W[cur_i,:] = W[cur_i,:] - eta * grad_w\n",
    "       H[:,cur_j] = H[:,cur_j] - eta * grad_h\n",
    "    \n",
    "    #compute the root-mean-squared error\n",
    "    A = Xsp-W.dot(H)\n",
    "    frob = sp.csr_matrix(M).multiply(sp.csr_matrix(A)).todense()\n",
    "    solution = math.sqrt((norm(frob,'fro')**2)/N)\n",
    "    rmse_sgd[t] = solution\n",
    "    print('Iteration '+str(t))"
   ]
  },
  {
   "cell_type": "code",
   "execution_count": 137,
   "metadata": {},
   "outputs": [
    {
     "data": {
      "image/png": "[encoded data removed]",
      "text/plain": [
       "<Figure size 432x288 with 1 Axes>"
      ]
     },
     "metadata": {
      "needs_background": "light"
     },
     "output_type": "display_data"
    }
   ],
   "source": [
    "import matplotlib.pyplot as plt\n",
    "# Plot results\n",
    "plt.plot(range(0, numIter), rmse_sgd)\n",
    "plt.xlabel(\"Iterations\")\n",
    "plt.ylabel(\"RMSE\")\n",
    "plt.title('SGD')\n",
    "plt.show()"
   ]
  },
  {
   "cell_type": "markdown",
   "metadata": {},
   "source": [
    "# Playing with the algorithm parameters:"
   ]
  },
  {
   "cell_type": "markdown",
   "metadata": {},
   "source": [
    "Just putting everything into a function to make it easier"
   ]
  },
  {
   "cell_type": "code",
   "execution_count": 211,
   "metadata": {},
   "outputs": [],
   "source": [
    "def optimizer(number_of_iterations, _eta, batch_size, matrix_rank):\n",
    "\n",
    "    W = 1 * randn(I,matrix_rank) \n",
    "    H = 1 * randn(matrix_rank,J)\n",
    "    for t in range(number_of_iterations):\n",
    "\n",
    "        #get a random batch from the data\n",
    "        data_index = np.random.permutation(N)[:batch_size]\n",
    "        #this vector will contain some random numbers between 1 and N. \n",
    "        #Its size should be batchSize. You can use the function randperm\n",
    "\n",
    "        #for each element in the data batch, update the corresponding elements in W and H\n",
    "        for i in range(batch_size):\n",
    "           # for each element in the batch, find its corresponding 'i', 'j' and value by using the Xlist array\n",
    "           cur_i = Xlist[0][data_index[i]]\n",
    "           cur_j = Xlist[1][data_index[i]]\n",
    "           cur_x = Xlist[2][data_index[i]]\n",
    "\n",
    "           #compute the current xhat, for the current i and j\n",
    "           cur_xhat = W[cur_i,:].dot(H[:,cur_j])\n",
    "\n",
    "           #compute the gradients for the 'corresponding elements' of W and H \n",
    "           #not all the elements of W and H will be updated\n",
    "           grad_w =  - (cur_x - cur_xhat)*(H[:,cur_j].T)\n",
    "           grad_h =  - W[cur_i,:].T.dot(cur_x - cur_xhat)\n",
    "\n",
    "           #take a gradient step\n",
    "           W[cur_i,:] = W[cur_i,:] - eta * grad_w\n",
    "           H[:,cur_j] = H[:,cur_j] - eta * grad_h\n",
    "\n",
    "        #compute the root-mean-squared error\n",
    "        A = Xsp-W.dot(H)\n",
    "        frob = sp.csr_matrix(M).multiply(sp.csr_matrix(A)).todense()\n",
    "        solution = math.sqrt((norm(frob,'fro')**2)/N)\n",
    "        rmse_sgd[t] = solution\n",
    "        print('Iteration '+str(t))\n",
    "    \n",
    "    # Plot results\n",
    "    plt.plot(range(0, number_of_iterations), rmse_sgd)\n",
    "    plt.xlabel(\"Iterations\")\n",
    "    plt.ylabel(\"RMSE\")\n",
    "    plt.title('SGD')\n",
    "    plt.show()"
   ]
  },
  {
   "cell_type": "markdown",
   "metadata": {},
   "source": [
    "### Increasing Rank:\n",
    "\n",
    "Rank K = 30, step eta = 0.02, batch size = 1000\n",
    "\n",
    "As can be seen bellow, by comparing the graphs, we can see that higher K will not necessarily produce better results, even though the higher K produces better aproximation of the X^. Also, execution time rises as K rises."
   ]
  },
  {
   "cell_type": "code",
   "execution_count": 212,
   "metadata": {},
   "outputs": [
    {
     "name": "stdout",
     "output_type": "stream",
     "text": [
      "Iteration 0\n",
      "Iteration 1\n",
      "Iteration 2\n",
      "Iteration 3\n",
      "Iteration 4\n",
      "Iteration 5\n",
      "Iteration 6\n",
      "Iteration 7\n",
      "Iteration 8\n",
      "Iteration 9\n",
      "Iteration 10\n",
      "Iteration 11\n",
      "Iteration 12\n",
      "Iteration 13\n",
      "Iteration 14\n",
      "Iteration 15\n",
      "Iteration 16\n",
      "Iteration 17\n",
      "Iteration 18\n",
      "Iteration 19\n",
      "Iteration 20\n",
      "Iteration 21\n",
      "Iteration 22\n",
      "Iteration 23\n",
      "Iteration 24\n",
      "Iteration 25\n",
      "Iteration 26\n",
      "Iteration 27\n",
      "Iteration 28\n",
      "Iteration 29\n",
      "Iteration 30\n",
      "Iteration 31\n",
      "Iteration 32\n",
      "Iteration 33\n",
      "Iteration 34\n",
      "Iteration 35\n",
      "Iteration 36\n",
      "Iteration 37\n",
      "Iteration 38\n",
      "Iteration 39\n",
      "Iteration 40\n",
      "Iteration 41\n",
      "Iteration 42\n",
      "Iteration 43\n",
      "Iteration 44\n",
      "Iteration 45\n",
      "Iteration 46\n",
      "Iteration 47\n",
      "Iteration 48\n",
      "Iteration 49\n",
      "Iteration 50\n",
      "Iteration 51\n",
      "Iteration 52\n",
      "Iteration 53\n",
      "Iteration 54\n",
      "Iteration 55\n",
      "Iteration 56\n",
      "Iteration 57\n",
      "Iteration 58\n",
      "Iteration 59\n",
      "Iteration 60\n",
      "Iteration 61\n",
      "Iteration 62\n",
      "Iteration 63\n",
      "Iteration 64\n",
      "Iteration 65\n",
      "Iteration 66\n",
      "Iteration 67\n",
      "Iteration 68\n",
      "Iteration 69\n",
      "Iteration 70\n",
      "Iteration 71\n",
      "Iteration 72\n",
      "Iteration 73\n",
      "Iteration 74\n",
      "Iteration 75\n",
      "Iteration 76\n",
      "Iteration 77\n",
      "Iteration 78\n",
      "Iteration 79\n",
      "Iteration 80\n",
      "Iteration 81\n",
      "Iteration 82\n",
      "Iteration 83\n",
      "Iteration 84\n",
      "Iteration 85\n",
      "Iteration 86\n",
      "Iteration 87\n",
      "Iteration 88\n",
      "Iteration 89\n",
      "Iteration 90\n",
      "Iteration 91\n",
      "Iteration 92\n",
      "Iteration 93\n",
      "Iteration 94\n",
      "Iteration 95\n",
      "Iteration 96\n",
      "Iteration 97\n",
      "Iteration 98\n",
      "Iteration 99\n"
     ]
    },
    {
     "data": {
      "image/png": "[encoded data removed]",
      "text/plain": [
       "<Figure size 432x288 with 1 Axes>"
      ]
     },
     "metadata": {
      "needs_background": "light"
     },
     "output_type": "display_data"
    }
   ],
   "source": [
    "optimizer(number_of_iterations=100, matrix_rank=30, _eta=0.02, batch_size=1000)"
   ]
  },
  {
   "cell_type": "markdown",
   "metadata": {},
   "source": [
    "### Decreasing step size:\n",
    "\n",
    "Rank K = 10, step eta = 0.001, batch size = 1000\n",
    "\n",
    "The result is similar as in the first example with the higher step size. \n",
    "By taking a smaller step size, algorithm converges slower."
   ]
  },
  {
   "cell_type": "code",
   "execution_count": 213,
   "metadata": {},
   "outputs": [
    {
     "name": "stdout",
     "output_type": "stream",
     "text": [
      "Iteration 0\n",
      "Iteration 1\n",
      "Iteration 2\n",
      "Iteration 3\n",
      "Iteration 4\n",
      "Iteration 5\n",
      "Iteration 6\n",
      "Iteration 7\n",
      "Iteration 8\n",
      "Iteration 9\n",
      "Iteration 10\n",
      "Iteration 11\n",
      "Iteration 12\n",
      "Iteration 13\n",
      "Iteration 14\n",
      "Iteration 15\n",
      "Iteration 16\n",
      "Iteration 17\n",
      "Iteration 18\n",
      "Iteration 19\n",
      "Iteration 20\n",
      "Iteration 21\n",
      "Iteration 22\n",
      "Iteration 23\n",
      "Iteration 24\n",
      "Iteration 25\n",
      "Iteration 26\n",
      "Iteration 27\n",
      "Iteration 28\n",
      "Iteration 29\n",
      "Iteration 30\n",
      "Iteration 31\n",
      "Iteration 32\n",
      "Iteration 33\n",
      "Iteration 34\n",
      "Iteration 35\n",
      "Iteration 36\n",
      "Iteration 37\n",
      "Iteration 38\n",
      "Iteration 39\n",
      "Iteration 40\n",
      "Iteration 41\n",
      "Iteration 42\n",
      "Iteration 43\n",
      "Iteration 44\n",
      "Iteration 45\n",
      "Iteration 46\n",
      "Iteration 47\n",
      "Iteration 48\n",
      "Iteration 49\n",
      "Iteration 50\n",
      "Iteration 51\n",
      "Iteration 52\n",
      "Iteration 53\n",
      "Iteration 54\n",
      "Iteration 55\n",
      "Iteration 56\n",
      "Iteration 57\n",
      "Iteration 58\n",
      "Iteration 59\n",
      "Iteration 60\n",
      "Iteration 61\n",
      "Iteration 62\n",
      "Iteration 63\n",
      "Iteration 64\n",
      "Iteration 65\n",
      "Iteration 66\n",
      "Iteration 67\n",
      "Iteration 68\n",
      "Iteration 69\n",
      "Iteration 70\n",
      "Iteration 71\n",
      "Iteration 72\n",
      "Iteration 73\n",
      "Iteration 74\n",
      "Iteration 75\n",
      "Iteration 76\n",
      "Iteration 77\n",
      "Iteration 78\n",
      "Iteration 79\n",
      "Iteration 80\n",
      "Iteration 81\n",
      "Iteration 82\n",
      "Iteration 83\n",
      "Iteration 84\n",
      "Iteration 85\n",
      "Iteration 86\n",
      "Iteration 87\n",
      "Iteration 88\n",
      "Iteration 89\n",
      "Iteration 90\n",
      "Iteration 91\n",
      "Iteration 92\n",
      "Iteration 93\n",
      "Iteration 94\n",
      "Iteration 95\n",
      "Iteration 96\n",
      "Iteration 97\n",
      "Iteration 98\n",
      "Iteration 99\n"
     ]
    },
    {
     "data": {
      "image/png": "[encoded data removed]",
      "text/plain": [
       "<Figure size 432x288 with 1 Axes>"
      ]
     },
     "metadata": {
      "needs_background": "light"
     },
     "output_type": "display_data"
    }
   ],
   "source": [
    "optimizer(number_of_iterations=100, matrix_rank=10, _eta=0.001, batch_size=1000)"
   ]
  },
  {
   "cell_type": "markdown",
   "metadata": {},
   "source": [
    "### Decreasing batch size:\n",
    "\n",
    "Rank K = 10, step eta = 0.02, batch size = 100\n",
    "\n",
    "Here we see the small instabilty, because we are taking a bigger step on a smaller set of entries. \n",
    "The convergence is even slower and linear."
   ]
  },
  {
   "cell_type": "code",
   "execution_count": 216,
   "metadata": {},
   "outputs": [
    {
     "name": "stdout",
     "output_type": "stream",
     "text": [
      "Iteration 0\n",
      "Iteration 1\n",
      "Iteration 2\n",
      "Iteration 3\n",
      "Iteration 4\n",
      "Iteration 5\n",
      "Iteration 6\n",
      "Iteration 7\n",
      "Iteration 8\n",
      "Iteration 9\n",
      "Iteration 10\n",
      "Iteration 11\n",
      "Iteration 12\n",
      "Iteration 13\n",
      "Iteration 14\n",
      "Iteration 15\n",
      "Iteration 16\n",
      "Iteration 17\n",
      "Iteration 18\n",
      "Iteration 19\n",
      "Iteration 20\n",
      "Iteration 21\n",
      "Iteration 22\n",
      "Iteration 23\n",
      "Iteration 24\n",
      "Iteration 25\n",
      "Iteration 26\n",
      "Iteration 27\n",
      "Iteration 28\n",
      "Iteration 29\n",
      "Iteration 30\n",
      "Iteration 31\n",
      "Iteration 32\n",
      "Iteration 33\n",
      "Iteration 34\n",
      "Iteration 35\n",
      "Iteration 36\n",
      "Iteration 37\n",
      "Iteration 38\n",
      "Iteration 39\n",
      "Iteration 40\n",
      "Iteration 41\n",
      "Iteration 42\n",
      "Iteration 43\n",
      "Iteration 44\n",
      "Iteration 45\n",
      "Iteration 46\n",
      "Iteration 47\n",
      "Iteration 48\n",
      "Iteration 49\n",
      "Iteration 50\n",
      "Iteration 51\n",
      "Iteration 52\n",
      "Iteration 53\n",
      "Iteration 54\n",
      "Iteration 55\n",
      "Iteration 56\n",
      "Iteration 57\n",
      "Iteration 58\n",
      "Iteration 59\n",
      "Iteration 60\n",
      "Iteration 61\n",
      "Iteration 62\n",
      "Iteration 63\n",
      "Iteration 64\n",
      "Iteration 65\n",
      "Iteration 66\n",
      "Iteration 67\n",
      "Iteration 68\n",
      "Iteration 69\n",
      "Iteration 70\n",
      "Iteration 71\n",
      "Iteration 72\n",
      "Iteration 73\n",
      "Iteration 74\n",
      "Iteration 75\n",
      "Iteration 76\n",
      "Iteration 77\n",
      "Iteration 78\n",
      "Iteration 79\n",
      "Iteration 80\n",
      "Iteration 81\n",
      "Iteration 82\n",
      "Iteration 83\n",
      "Iteration 84\n",
      "Iteration 85\n",
      "Iteration 86\n",
      "Iteration 87\n",
      "Iteration 88\n",
      "Iteration 89\n",
      "Iteration 90\n",
      "Iteration 91\n",
      "Iteration 92\n",
      "Iteration 93\n",
      "Iteration 94\n",
      "Iteration 95\n",
      "Iteration 96\n",
      "Iteration 97\n",
      "Iteration 98\n",
      "Iteration 99\n"
     ]
    },
    {
     "data": {
      "image/png": "[encoded data removed]",
      "text/plain": [
       "<Figure size 432x288 with 1 Axes>"
      ]
     },
     "metadata": {
      "needs_background": "light"
     },
     "output_type": "display_data"
    }
   ],
   "source": [
    "optimizer(number_of_iterations=100, matrix_rank=10, _eta=0.02, batch_size=100)"
   ]
  },
  {
   "cell_type": "markdown",
   "metadata": {},
   "source": [
    "# Recommending a movie for a given user"
   ]
  },
  {
   "cell_type": "code",
   "execution_count": 210,
   "metadata": {},
   "outputs": [
    {
     "name": "stdout",
     "output_type": "stream",
     "text": [
      "Recommend movie 2762 to user 11\n"
     ]
    }
   ],
   "source": [
    "#Make recommendations\n",
    "user_index = 11\n",
    "M_op = np.ones((I,J))- M\n",
    "user_mask = M_op[:, user_index]\n",
    "user_result = W.dot(H[:, user_index].reshape(-1, 1))\n",
    "user_result[np.where(user_mask == 0)[0]] = 0\n",
    "movie_index = np.argmax(user_result, axis=0)\n",
    "\n",
    "print('Recommend movie '+str(movie_index[0]) + ' to user '+str(user_index))"
   ]
  }
 ],
 "metadata": {
  "kernelspec": {
   "display_name": "Python 3",
   "language": "python",
   "name": "python3"
  },
  "language_info": {
   "codemirror_mode": {
    "name": "ipython",
    "version": 3
   },
   "file_extension": ".py",
   "mimetype": "text/x-python",
   "name": "python",
   "nbconvert_exporter": "python",
   "pygments_lexer": "ipython3",
   "version": "3.7.0"
  }
 },
 "nbformat": 4,
 "nbformat_minor": 2
}
